{
 "cells": [
  {
   "cell_type": "code",
   "execution_count": 12,
   "id": "e45b90b3-2a0f-43bd-a072-6f5c6d4d3310",
   "metadata": {},
   "outputs": [],
   "source": [
    "import pandas as pd\n",
    "import matplotlib.pyplot as plt\n",
    "import seaborn as sns\n",
    "import os\n"
   ]
  },
  {
   "cell_type": "code",
   "execution_count": 2,
   "id": "e4bf705f-b07f-45ea-8f16-33efb9f82fc8",
   "metadata": {},
   "outputs": [
    {
     "data": {
      "text/html": [
       "<div>\n",
       "<style scoped>\n",
       "    .dataframe tbody tr th:only-of-type {\n",
       "        vertical-align: middle;\n",
       "    }\n",
       "\n",
       "    .dataframe tbody tr th {\n",
       "        vertical-align: top;\n",
       "    }\n",
       "\n",
       "    .dataframe thead th {\n",
       "        text-align: right;\n",
       "    }\n",
       "</style>\n",
       "<table border=\"1\" class=\"dataframe\">\n",
       "  <thead>\n",
       "    <tr style=\"text-align: right;\">\n",
       "      <th></th>\n",
       "      <th>Invoice ID</th>\n",
       "      <th>City</th>\n",
       "      <th>Gender</th>\n",
       "      <th>Product line</th>\n",
       "      <th>Unit price</th>\n",
       "      <th>Quantity</th>\n",
       "      <th>Tax 5%</th>\n",
       "      <th>Total</th>\n",
       "      <th>Date</th>\n",
       "      <th>Payment</th>\n",
       "    </tr>\n",
       "  </thead>\n",
       "  <tbody>\n",
       "    <tr>\n",
       "      <th>0</th>\n",
       "      <td>INV-1000</td>\n",
       "      <td>Mandalay</td>\n",
       "      <td>Female</td>\n",
       "      <td>Health</td>\n",
       "      <td>91.04</td>\n",
       "      <td>6</td>\n",
       "      <td>27.31</td>\n",
       "      <td>573.55</td>\n",
       "      <td>2024-01-01</td>\n",
       "      <td>Cash</td>\n",
       "    </tr>\n",
       "    <tr>\n",
       "      <th>1</th>\n",
       "      <td>INV-1001</td>\n",
       "      <td>Yangon</td>\n",
       "      <td>Female</td>\n",
       "      <td>Clothing</td>\n",
       "      <td>66.98</td>\n",
       "      <td>6</td>\n",
       "      <td>20.09</td>\n",
       "      <td>421.97</td>\n",
       "      <td>2024-01-02</td>\n",
       "      <td>Ewallet</td>\n",
       "    </tr>\n",
       "    <tr>\n",
       "      <th>2</th>\n",
       "      <td>INV-1002</td>\n",
       "      <td>Mandalay</td>\n",
       "      <td>Female</td>\n",
       "      <td>Electronics</td>\n",
       "      <td>40.51</td>\n",
       "      <td>5</td>\n",
       "      <td>10.13</td>\n",
       "      <td>212.68</td>\n",
       "      <td>2024-01-03</td>\n",
       "      <td>Cash</td>\n",
       "    </tr>\n",
       "    <tr>\n",
       "      <th>3</th>\n",
       "      <td>INV-1003</td>\n",
       "      <td>Mandalay</td>\n",
       "      <td>Male</td>\n",
       "      <td>Health</td>\n",
       "      <td>41.43</td>\n",
       "      <td>1</td>\n",
       "      <td>2.07</td>\n",
       "      <td>43.50</td>\n",
       "      <td>2024-01-04</td>\n",
       "      <td>Ewallet</td>\n",
       "    </tr>\n",
       "    <tr>\n",
       "      <th>4</th>\n",
       "      <td>INV-1004</td>\n",
       "      <td>Yangon</td>\n",
       "      <td>Male</td>\n",
       "      <td>Health</td>\n",
       "      <td>75.34</td>\n",
       "      <td>8</td>\n",
       "      <td>30.14</td>\n",
       "      <td>632.86</td>\n",
       "      <td>2024-01-05</td>\n",
       "      <td>Credit card</td>\n",
       "    </tr>\n",
       "  </tbody>\n",
       "</table>\n",
       "</div>"
      ],
      "text/plain": [
       "  Invoice ID      City  Gender Product line  Unit price  Quantity  Tax 5%  \\\n",
       "0   INV-1000  Mandalay  Female       Health       91.04         6   27.31   \n",
       "1   INV-1001    Yangon  Female     Clothing       66.98         6   20.09   \n",
       "2   INV-1002  Mandalay  Female  Electronics       40.51         5   10.13   \n",
       "3   INV-1003  Mandalay    Male       Health       41.43         1    2.07   \n",
       "4   INV-1004    Yangon    Male       Health       75.34         8   30.14   \n",
       "\n",
       "    Total        Date      Payment  \n",
       "0  573.55  2024-01-01         Cash  \n",
       "1  421.97  2024-01-02      Ewallet  \n",
       "2  212.68  2024-01-03         Cash  \n",
       "3   43.50  2024-01-04      Ewallet  \n",
       "4  632.86  2024-01-05  Credit card  "
      ]
     },
     "execution_count": 2,
     "metadata": {},
     "output_type": "execute_result"
    }
   ],
   "source": [
    "# Load the dataset\n",
    "df = pd.read_csv(r'C:\\Users\\Wasim Haidar\\Desktop\\supermarket_sales_mock.csv')\n",
    "\n",
    "# Preview data\n",
    "df.head()\n"
   ]
  },
  {
   "cell_type": "code",
   "execution_count": 3,
   "id": "4589ed94-700a-469e-9ce3-1797a8122380",
   "metadata": {},
   "outputs": [
    {
     "data": {
      "text/html": [
       "<div>\n",
       "<style scoped>\n",
       "    .dataframe tbody tr th:only-of-type {\n",
       "        vertical-align: middle;\n",
       "    }\n",
       "\n",
       "    .dataframe tbody tr th {\n",
       "        vertical-align: top;\n",
       "    }\n",
       "\n",
       "    .dataframe thead th {\n",
       "        text-align: right;\n",
       "    }\n",
       "</style>\n",
       "<table border=\"1\" class=\"dataframe\">\n",
       "  <thead>\n",
       "    <tr style=\"text-align: right;\">\n",
       "      <th></th>\n",
       "      <th>Unit price</th>\n",
       "      <th>Quantity</th>\n",
       "      <th>Tax 5%</th>\n",
       "      <th>Total</th>\n",
       "    </tr>\n",
       "  </thead>\n",
       "  <tbody>\n",
       "    <tr>\n",
       "      <th>count</th>\n",
       "      <td>100.000000</td>\n",
       "      <td>100.000000</td>\n",
       "      <td>100.0000</td>\n",
       "      <td>100.000000</td>\n",
       "    </tr>\n",
       "    <tr>\n",
       "      <th>mean</th>\n",
       "      <td>58.371200</td>\n",
       "      <td>4.640000</td>\n",
       "      <td>13.2935</td>\n",
       "      <td>279.160800</td>\n",
       "    </tr>\n",
       "    <tr>\n",
       "      <th>std</th>\n",
       "      <td>26.331346</td>\n",
       "      <td>2.439241</td>\n",
       "      <td>9.6293</td>\n",
       "      <td>202.217468</td>\n",
       "    </tr>\n",
       "    <tr>\n",
       "      <th>min</th>\n",
       "      <td>10.460000</td>\n",
       "      <td>1.000000</td>\n",
       "      <td>1.2200</td>\n",
       "      <td>25.690000</td>\n",
       "    </tr>\n",
       "    <tr>\n",
       "      <th>25%</th>\n",
       "      <td>36.480000</td>\n",
       "      <td>3.000000</td>\n",
       "      <td>5.0150</td>\n",
       "      <td>105.315000</td>\n",
       "    </tr>\n",
       "    <tr>\n",
       "      <th>50%</th>\n",
       "      <td>61.985000</td>\n",
       "      <td>5.000000</td>\n",
       "      <td>10.8350</td>\n",
       "      <td>227.515000</td>\n",
       "    </tr>\n",
       "    <tr>\n",
       "      <th>75%</th>\n",
       "      <td>81.552500</td>\n",
       "      <td>7.000000</td>\n",
       "      <td>19.3000</td>\n",
       "      <td>405.220000</td>\n",
       "    </tr>\n",
       "    <tr>\n",
       "      <th>max</th>\n",
       "      <td>99.100000</td>\n",
       "      <td>9.000000</td>\n",
       "      <td>40.5400</td>\n",
       "      <td>851.440000</td>\n",
       "    </tr>\n",
       "  </tbody>\n",
       "</table>\n",
       "</div>"
      ],
      "text/plain": [
       "       Unit price    Quantity    Tax 5%       Total\n",
       "count  100.000000  100.000000  100.0000  100.000000\n",
       "mean    58.371200    4.640000   13.2935  279.160800\n",
       "std     26.331346    2.439241    9.6293  202.217468\n",
       "min     10.460000    1.000000    1.2200   25.690000\n",
       "25%     36.480000    3.000000    5.0150  105.315000\n",
       "50%     61.985000    5.000000   10.8350  227.515000\n",
       "75%     81.552500    7.000000   19.3000  405.220000\n",
       "max     99.100000    9.000000   40.5400  851.440000"
      ]
     },
     "execution_count": 3,
     "metadata": {},
     "output_type": "execute_result"
    }
   ],
   "source": [
    "# Summary statistics\n",
    "df.describe()\n"
   ]
  },
  {
   "cell_type": "code",
   "execution_count": 4,
   "id": "e3eddd35-d3ad-445d-bdeb-1dd35b64ccc4",
   "metadata": {},
   "outputs": [
    {
     "data": {
      "text/plain": [
       "Invoice ID      0\n",
       "City            0\n",
       "Gender          0\n",
       "Product line    0\n",
       "Unit price      0\n",
       "Quantity        0\n",
       "Tax 5%          0\n",
       "Total           0\n",
       "Date            0\n",
       "Payment         0\n",
       "dtype: int64"
      ]
     },
     "execution_count": 4,
     "metadata": {},
     "output_type": "execute_result"
    }
   ],
   "source": [
    "# Check for missing values\n",
    "df.isnull().sum()\n"
   ]
  },
  {
   "cell_type": "code",
   "execution_count": 5,
   "id": "c0166abc-ad72-4af9-969f-d8e076a4acfd",
   "metadata": {},
   "outputs": [],
   "source": [
    "# Drop missing values\n",
    "df.dropna(inplace=True)\n",
    "\n",
    "# Convert 'Date' column to datetime if it exists\n",
    "if 'Date' in df.columns:\n",
    "    df['Date'] = pd.to_datetime(df['Date'], errors='coerce')\n",
    "\n",
    "# Ensure 'Total' is numeric\n",
    "df['Total'] = pd.to_numeric(df['Total'], errors='coerce')\n",
    "df.dropna(subset=['Total'], inplace=True)\n"
   ]
  },
  {
   "cell_type": "code",
   "execution_count": 6,
   "id": "bfe5b0b7-54fe-444c-a130-578120a15638",
   "metadata": {},
   "outputs": [],
   "source": [
    "# Add Month and Day (if 'Date' column is available)\n",
    "if 'Date' in df.columns:\n",
    "    df['Month'] = df['Date'].dt.to_period('M').astype(str)\n",
    "    df['Day'] = df['Date'].dt.day_name()\n",
    "    "
   ]
  },
  {
   "cell_type": "code",
   "execution_count": 7,
   "id": "597bd85c-e6b6-41f1-a5ad-cfffbe211636",
   "metadata": {},
   "outputs": [],
   "source": [
    "# Using IQR method for 'Total'\n",
    "Q1 = df['Total'].quantile(0.25)\n",
    "Q3 = df['Total'].quantile(0.75)\n",
    "IQR = Q3 - Q1\n",
    "lower_bound = Q1 - 1.5 * IQR\n",
    "upper_bound = Q3 + 1.5 * IQR\n",
    "\n",
    "# Filter out outliers\n",
    "df = df[(df['Total'] >= lower_bound) & (df['Total'] <= upper_bound)]\n"
   ]
  },
  {
   "cell_type": "code",
   "execution_count": 8,
   "id": "74e162b0-926a-4c8e-a285-b04488ce8284",
   "metadata": {},
   "outputs": [
    {
     "data": {
      "text/html": [
       "<div>\n",
       "<style scoped>\n",
       "    .dataframe tbody tr th:only-of-type {\n",
       "        vertical-align: middle;\n",
       "    }\n",
       "\n",
       "    .dataframe tbody tr th {\n",
       "        vertical-align: top;\n",
       "    }\n",
       "\n",
       "    .dataframe thead th {\n",
       "        text-align: right;\n",
       "    }\n",
       "</style>\n",
       "<table border=\"1\" class=\"dataframe\">\n",
       "  <thead>\n",
       "    <tr style=\"text-align: right;\">\n",
       "      <th></th>\n",
       "      <th>City</th>\n",
       "      <th>Total</th>\n",
       "    </tr>\n",
       "  </thead>\n",
       "  <tbody>\n",
       "    <tr>\n",
       "      <th>0</th>\n",
       "      <td>Mandalay</td>\n",
       "      <td>8482.06</td>\n",
       "    </tr>\n",
       "    <tr>\n",
       "      <th>1</th>\n",
       "      <td>Naypyitaw</td>\n",
       "      <td>10293.82</td>\n",
       "    </tr>\n",
       "    <tr>\n",
       "      <th>2</th>\n",
       "      <td>Yangon</td>\n",
       "      <td>9140.20</td>\n",
       "    </tr>\n",
       "  </tbody>\n",
       "</table>\n",
       "</div>"
      ],
      "text/plain": [
       "        City     Total\n",
       "0   Mandalay   8482.06\n",
       "1  Naypyitaw  10293.82\n",
       "2     Yangon   9140.20"
      ]
     },
     "execution_count": 8,
     "metadata": {},
     "output_type": "execute_result"
    }
   ],
   "source": [
    "sales_by_city = df.groupby('City')['Total'].sum().reset_index()\n",
    "sales_by_city\n"
   ]
  },
  {
   "cell_type": "code",
   "execution_count": 9,
   "id": "de9df8a3-3911-4124-abc5-1af25e502f90",
   "metadata": {},
   "outputs": [
    {
     "name": "stderr",
     "output_type": "stream",
     "text": [
      "C:\\Users\\Wasim Haidar\\AppData\\Local\\Temp\\ipykernel_17936\\3439588480.py:2: FutureWarning: \n",
      "\n",
      "Passing `palette` without assigning `hue` is deprecated and will be removed in v0.14.0. Assign the `x` variable to `hue` and set `legend=False` for the same effect.\n",
      "\n",
      "  sns.barplot(data=sales_by_city, x='City', y='Total', palette='pastel')\n"
     ]
    },
    {
     "data": {
      "image/png": "[encoded data removed]",
      "text/plain": [
       "<Figure size 1000x600 with 1 Axes>"
      ]
     },
     "metadata": {},
     "output_type": "display_data"
    }
   ],
   "source": [
    "plt.figure(figsize=(10, 6))\n",
    "sns.barplot(data=sales_by_city, x='City', y='Total', palette='pastel')\n",
    "plt.title('Total Sales by City')\n",
    "plt.xlabel('City')\n",
    "plt.ylabel('Total Sales')\n",
    "plt.tight_layout()\n"
   ]
  },
  {
   "cell_type": "code",
   "execution_count": 10,
   "id": "395b0250-fb60-4af5-a3fa-c5a213831355",
   "metadata": {},
   "outputs": [
    {
     "data": {
      "text/plain": [
       "<Figure size 640x480 with 0 Axes>"
      ]
     },
     "metadata": {},
     "output_type": "display_data"
    }
   ],
   "source": [
    "# Ensure the 'output' folder exists\n",
    "output_folder = r'C:\\Users\\Wasim Haidar\\Desktop\\super_market_sales_analysis\\output'\n",
    "os.makedirs(output_folder, exist_ok=True)\n",
    "\n",
    "# Save the plot\n",
    "plt.savefig(f'{output_folder}/city_sales.png')\n"
   ]
  },
  {
   "cell_type": "code",
   "execution_count": 11,
   "id": "982ba72e-54ca-441c-a7ef-2fb2d06fc4f8",
   "metadata": {},
   "outputs": [],
   "source": [
    "plt.show()\n"
   ]
  }
 ],
 "metadata": {
  "kernelspec": {
   "display_name": "Python 3 (ipykernel)",
   "language": "python",
   "name": "python3"
  },
  "language_info": {
   "codemirror_mode": {
    "name": "ipython",
    "version": 3
   },
   "file_extension": ".py",
   "mimetype": "text/x-python",
   "name": "python",
   "nbconvert_exporter": "python",
   "pygments_lexer": "ipython3",
   "version": "3.13.3"
  }
 },
 "nbformat": 4,
 "nbformat_minor": 5
}
