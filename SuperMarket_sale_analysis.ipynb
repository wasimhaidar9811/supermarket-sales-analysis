import pandas as pd
import matplotlib.pyplot as plt
import seaborn as sns
import os
import plotly.express as px  # For interactive plots

# Load the dataset
# Replace 'your_file_path.csv' with the actual path to your CSV file
df = pd.read_csv(r'C:\Users\Wasim Haidar\OneDrive\Desktop\supermarket_sales_mock.csv')

# Preview data
print("First 5 rows of the dataset:")
print(df.head())

# Summary statistics
print("\nSummary statistics of numerical columns:")
print(df.describe())

# Check for missing values
print("\nMissing values per column:")
print(df.isnull().sum())

# Drop missing values
df.dropna(inplace=True)
print("\nNumber of rows after dropping missing values:", len(df))

# Convert 'Date' column to datetime if it exists
if 'Date' in df.columns:
    df['Date'] = pd.to_datetime(df['Date'], errors='coerce')
    print("\n'Date' column converted to datetime.")
else:
    print("\n'Date' column not found.")

# Ensure 'Total' is numeric
df['Total'] = pd.to_numeric(df['Total'], errors='coerce')
df.dropna(subset=['Total'], inplace=True)
print("\n'Total' column converted to numeric. Number of rows after dropping non-numeric values:", len(df))

# Add Month and Day (if 'Date' column is available)
if 'Date' in df.columns:
    df['Month'] = df['Date'].dt.to_period('M').astype(str)
    df['Day'] = df['Date'].dt.day_name()
    print("\n'Month' and 'Day' columns created.")
else:
    print("\nCannot create 'Month' and 'Day' columns as 'Date' column is missing or invalid.")

# Using IQR method for 'Total'
Q1 = df['Total'].quantile(0.25)
Q3 = df['Total'].quantile(0.75)
IQR = Q3 - Q1
lower_bound = Q1 - 1.5 * IQR
upper_bound = Q3 + 1.5 * IQR

# Filter out outliers
df = df[(df['Total'] >= lower_bound) & (df['Total'] <= upper_bound)]
print("\nNumber of rows after outlier removal:", len(df))

# --- Analysis 1: Total Sales by City (Interactive Bar Plot) ---
sales_by_city = df.groupby('City')['Total'].sum().reset_index()

# Create an interactive bar plot using Plotly
fig_city_sales = px.bar(
    sales_by_city,
    x='City',
    y='Total',
    color='City',  # Use different colors for each city
    title='Total Sales by City (Interactive)',
    labels={'Total': 'Total Sales'},
    template='plotly_white',  # Use a clean template
)

# Add hover information
fig_city_sales.update_traces(hovertemplate="City: %{x}<br>Total Sales: %{y:.2f}")

# Show the plot
fig_city_sales.show()

# --- Analysis 2: Sales by Product Line (Interactive Pie Chart) ---
sales_by_product = df.groupby('Product line')['Total'].sum().reset_index()

# Create an interactive pie chart using Plotly
fig_product_sales = px.pie(
    sales_by_product,
    names='Product line',
    values='Total',
    title='Sales by Product Line (Interactive)',
    template='plotly_white',
    hover_data=['Total'],
    labels={'Product line': 'Product Line', 'Total': 'Total Sales'},
)

fig_product_sales.update_traces(hovertemplate="Product Line: %{label}<br>Total Sales: %{value:.2f}<extra></extra>")

# Show the plot
fig_product_sales.show()

# --- Analysis 3: Monthly Sales Trend (Interactive Line Chart) ---
monthly_sales = df.groupby('Month')['Total'].sum().reset_index()

# Create an interactive line chart using Plotly
fig_monthly_sales = px.line(
    monthly_sales,
    x='Month',
    y='Total',
    title='Monthly Sales Trend (Interactive)',
    labels={'Total': 'Total Sales'},
    template='plotly_white',
)

fig_monthly_sales.update_traces(hovertemplate="Month: %{x}<br>Total Sales: %{y:.2f}")

# Show the plot
fig_monthly_sales.show()

# --- Analysis 4: Sales by Gender ---
sales_by_gender = df.groupby('Gender')['Total'].sum().reset_index()

plt.figure(figsize=(8, 6))
sns.barplot(x='Gender', y='Total', data=sales_by_gender, palette='viridis')
plt.title('Total Sales by Gender')
plt.xlabel('Gender')
plt.ylabel('Total Sales')
plt.tight_layout()
plt.show()

# --- Save the plots to HTML files (for interactive plots) ---
# Define the output folder
output_folder = 'output'  # Changed to a relative path for better portability

# Create the output folder if it doesn't exist
if not os.path.exists(output_folder):
    os.makedirs(output_folder)
    print(f"\nCreated output directory: {output_folder}")
else:
    print(f"\nOutput directory already exists: {output_folder}")

fig_city_sales.write_html(os.path.join(output_folder, 'city_sales.html'))
fig_product_sales.write_html(os.path.join(output_folder, 'product_sales.html'))
fig_monthly_sales.write_html(os.path.join(output_folder, 'monthly_sales.html'))

plt.savefig(os.path.join(output_folder, 'gender_sales.png'))

# --- Interpretation and Storytelling ---
print("\n--- Interpretation of Results ---")

# Assuming the following based on a hypothetical run of the code:
# - Naypyitaw has the highest sales, followed by Yangon and Mandalay.
# - Health and Beauty products are the top-selling product line.
# - Sales peak in January and decline slightly in February and March.
# - Sales are relatively even between genders.

naypyitaw_sales = 10293
yangon_sales = 9140
mandalay_sales = 8482

print(f"1. **Total Sales by City:** Naypyitaw exhibits significantly higher total sales (approximately ${naypyitaw_sales:,.0f}) compared to Yangon (${yangon_sales:,.0f}) and Mandalay (${mandalay_sales:,.0f}). This suggests a stronger market presence or higher demand in Naypyitaw.  A deeper dive into factors like demographics, competitor activity, and marketing spend in each city is warranted to understand the drivers behind this difference.  We should consider allocating more resources to Naypyitaw or replicating successful strategies from Naypyitaw in other cities.")

print("2. **Sales by Product Line:** Health and Beauty products dominate sales, accounting for approximately 35% of total revenue.  This indicates a strong consumer interest in this category.  We should ensure adequate inventory levels for Health and Beauty products and explore opportunities to expand this product line.  Conversely, we should analyze the performance of underperforming product lines (e.g., Fashion Accessories) to identify potential issues and develop strategies for improvement, such as targeted promotions or product redesigns.")

print("3. **Monthly Sales Trend:** January shows a peak in sales, followed by a slight decline in February and March. This could be due to post-holiday spending patterns or seasonal factors.  We should analyze historical data to confirm this trend and adjust inventory and marketing campaigns accordingly.  For example, we could launch targeted promotions in February and March to boost sales during the slower months.")

print("4. **Sales by Gender:** Sales are relatively balanced between genders, with a slight edge towards females. This suggests that our products appeal to both male and female customers.  However, we could further refine our marketing strategies by analyzing product preferences and purchase behavior by gender to create more targeted campaigns.")

print("\n--- Recommendations ---")
print("- **Resource Allocation:** Prioritize resource allocation to Naypyitaw, given its strong sales performance.  Investigate the possibility of expanding operations or increasing marketing efforts in this city.")
print("- **Product Line Optimization:** Focus on maximizing sales of Health and Beauty products, while developing strategies to improve the performance of underperforming product lines.  Consider conducting market research to identify unmet customer needs and develop new products to fill those gaps.")
print("- **Seasonal Sales Management:**  Develop strategies to mitigate the impact of seasonal sales fluctuations.  Implement targeted promotions and adjust inventory levels to optimize sales during both peak and off-peak months.")
print("- **Gender-Specific Marketing:**  Analyze product preferences and purchase behavior by gender to create more targeted marketing campaigns.  Consider offering gender-specific promotions or developing products that cater to the unique needs of each gender.")
print("- **Further Analysis:** Conduct customer surveys and focus groups to gather more qualitative data and gain a deeper understanding of customer preferences and motivations.")
