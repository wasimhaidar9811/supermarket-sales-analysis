{
 "cells": [
  {
   "cell_type": "code",
   "execution_count": 1,
   "id": "10252549-426f-4ce4-92fd-2b93f9e38877",
   "metadata": {},
   "outputs": [],
   "source": [
    "import pandas as pd\n",
    "import matplotlib.pyplot as plt\n",
    "import seaborn as sns\n",
    "import os\n",
    "import plotly.express as px  # For interactive plots"
   ]
  },
  {
   "cell_type": "code",
   "execution_count": 2,
   "id": "234f3e30-2a4f-435b-8e44-18d963ee36a0",
   "metadata": {},
   "outputs": [],
   "source": [
    "# Load the dataset\n",
    "# Replace 'your_file_path.csv' with the actual path to your CSV file\n",
    "df = pd.read_csv(r'C:\\Users\\Wasim Haidar\\OneDrive\\Desktop\\supermarket_sales_mock.csv')"
   ]
  },
  {
   "cell_type": "code",
   "execution_count": 3,
   "id": "4a56f909-cdfe-4e84-ab7d-a7ce93f3c3eb",
   "metadata": {},
   "outputs": [
    {
     "name": "stdout",
     "output_type": "stream",
     "text": [
      "First 5 rows of the dataset:\n",
      "  Invoice ID      City  Gender Product line  Unit price  Quantity  Tax 5%  \\\n",
      "0   INV-1000  Mandalay  Female       Health       91.04         6   27.31   \n",
      "1   INV-1001    Yangon  Female     Clothing       66.98         6   20.09   \n",
      "2   INV-1002  Mandalay  Female  Electronics       40.51         5   10.13   \n",
      "3   INV-1003  Mandalay    Male       Health       41.43         1    2.07   \n",
      "4   INV-1004    Yangon    Male       Health       75.34         8   30.14   \n",
      "\n",
      "    Total        Date      Payment  \n",
      "0  573.55  2024-01-01         Cash  \n",
      "1  421.97  2024-01-02      Ewallet  \n",
      "2  212.68  2024-01-03         Cash  \n",
      "3   43.50  2024-01-04      Ewallet  \n",
      "4  632.86  2024-01-05  Credit card  \n"
     ]
    }
   ],
   "source": [
    "# Preview data\n",
    "print(\"First 5 rows of the dataset:\")\n",
    "print(df.head())"
   ]
  },
  {
   "cell_type": "code",
   "execution_count": 4,
   "id": "dc7cd1f2-ce35-468a-8dc5-ff49dda1bd23",
   "metadata": {},
   "outputs": [
    {
     "name": "stdout",
     "output_type": "stream",
     "text": [
      "\n",
      "Summary statistics of numerical columns:\n",
      "       Unit price    Quantity    Tax 5%       Total\n",
      "count  100.000000  100.000000  100.0000  100.000000\n",
      "mean    58.371200    4.640000   13.2935  279.160800\n",
      "std     26.331346    2.439241    9.6293  202.217468\n",
      "min     10.460000    1.000000    1.2200   25.690000\n",
      "25%     36.480000    3.000000    5.0150  105.315000\n",
      "50%     61.985000    5.000000   10.8350  227.515000\n",
      "75%     81.552500    7.000000   19.3000  405.220000\n",
      "max     99.100000    9.000000   40.5400  851.440000\n"
     ]
    }
   ],
   "source": [
    "# Summary statistics\n",
    "print(\"\\nSummary statistics of numerical columns:\")\n",
    "print(df.describe())\n"
   ]
  },
  {
   "cell_type": "code",
   "execution_count": 5,
   "id": "e4ab57d1-8cac-462c-ac68-d4c45e0f3922",
   "metadata": {},
   "outputs": [
    {
     "name": "stdout",
     "output_type": "stream",
     "text": [
      "\n",
      "Missing values per column:\n",
      "Invoice ID      0\n",
      "City            0\n",
      "Gender          0\n",
      "Product line    0\n",
      "Unit price      0\n",
      "Quantity        0\n",
      "Tax 5%          0\n",
      "Total           0\n",
      "Date            0\n",
      "Payment         0\n",
      "dtype: int64\n"
     ]
    }
   ],
   "source": [
    "# Check for missing values\n",
    "print(\"\\nMissing values per column:\")\n",
    "print(df.isnull().sum())"
   ]
  },
  {
   "cell_type": "code",
   "execution_count": 6,
   "id": "a234156f-deaf-4609-aed9-d96456364dd5",
   "metadata": {},
   "outputs": [
    {
     "name": "stdout",
     "output_type": "stream",
     "text": [
      "\n",
      "Number of rows after dropping missing values: 100\n"
     ]
    }
   ],
   "source": [
    "# Drop missing values\n",
    "df.dropna(inplace=True)\n",
    "print(\"\\nNumber of rows after dropping missing values:\", len(df))"
   ]
  },
  {
   "cell_type": "code",
   "execution_count": 7,
   "id": "50060c88-86b9-48f2-9e6a-4d71c4da7927",
   "metadata": {},
   "outputs": [
    {
     "name": "stdout",
     "output_type": "stream",
     "text": [
      "\n",
      "'Date' column converted to datetime.\n"
     ]
    }
   ],
   "source": [
    "# Convert 'Date' column to datetime if it exists\n",
    "if 'Date' in df.columns:\n",
    "    df['Date'] = pd.to_datetime(df['Date'], errors='coerce')\n",
    "    print(\"\\n'Date' column converted to datetime.\")\n",
    "else:\n",
    "    print(\"\\n'Date' column not found.\")"
   ]
  },
  {
   "cell_type": "code",
   "execution_count": 8,
   "id": "c4b3b3da-83b8-4596-bcce-8c6db6dd12d9",
   "metadata": {},
   "outputs": [
    {
     "name": "stdout",
     "output_type": "stream",
     "text": [
      "\n",
      "'Total' column converted to numeric. Number of rows after dropping non-numeric values: 100\n"
     ]
    }
   ],
   "source": [
    "# Ensure 'Total' is numeric\n",
    "df['Total'] = pd.to_numeric(df['Total'], errors='coerce')\n",
    "df.dropna(subset=['Total'], inplace=True)\n",
    "print(\"\\n'Total' column converted to numeric. Number of rows after dropping non-numeric values:\", len(df))"
   ]
  },
  {
   "cell_type": "code",
   "execution_count": 9,
   "id": "02f70243-52ce-4c2c-bea4-f42fdbc0143d",
   "metadata": {},
   "outputs": [
    {
     "name": "stdout",
     "output_type": "stream",
     "text": [
      "\n",
      "'Month' and 'Day' columns created.\n"
     ]
    }
   ],
   "source": [
    "# Add Month and Day (if 'Date' column is available)\n",
    "if 'Date' in df.columns:\n",
    "    df['Month'] = df['Date'].dt.to_period('M').astype(str)\n",
    "    df['Day'] = df['Date'].dt.day_name()\n",
    "    print(\"\\n'Month' and 'Day' columns created.\")\n",
    "else:\n",
    "    print(\"\\nCannot create 'Month' and 'Day' columns as 'Date' column is missing or invalid.\")"
   ]
  },
  {
   "cell_type": "code",
   "execution_count": 10,
   "id": "e5c5dfb6-9ebe-42a9-840d-bfbf7496af96",
   "metadata": {},
   "outputs": [],
   "source": [
    "# Using IQR method for 'Total'\n",
    "Q1 = df['Total'].quantile(0.25)\n",
    "Q3 = df['Total'].quantile(0.75)\n",
    "IQR = Q3 - Q1\n",
    "lower_bound = Q1 - 1.5 * IQR\n",
    "upper_bound = Q3 + 1.5 * IQR"
   ]
  },
  {
   "cell_type": "code",
   "execution_count": 11,
   "id": "bef7ae63-3088-4797-b840-9bdc23245c92",
   "metadata": {},
   "outputs": [
    {
     "name": "stdout",
     "output_type": "stream",
     "text": [
      "\n",
      "Number of rows after outlier removal: 100\n"
     ]
    }
   ],
   "source": [
    "# Filter out outliers\n",
    "df = df[(df['Total'] >= lower_bound) & (df['Total'] <= upper_bound)]\n",
    "print(\"\\nNumber of rows after outlier removal:\", len(df))"
   ]
  },
  {
   "cell_type": "code",
   "execution_count": 12,
   "id": "e20e9f97-640f-4869-b00e-e9df5265e82a",
   "metadata": {},
   "outputs": [],
   "source": [
    "# --- Analysis 1: Total Sales by City (Interactive Bar Plot) ---\n",
    "sales_by_city = df.groupby('City')['Total'].sum().reset_index()"
   ]
  },
  {
   "cell_type": "code",
   "execution_count": 13,
   "id": "ed729a0a-e3ce-4669-a802-d6d226c68733",
   "metadata": {},
   "outputs": [],
   "source": [
    "# Create an interactive bar plot using Plotly\n",
    "fig_city_sales = px.bar(\n",
    "    sales_by_city,\n",
    "    x='City',\n",
    "    y='Total',\n",
    "    color='City',  # Use different colors for each city\n",
    "    title='Total Sales by City (Interactive)',\n",
    "    labels={'Total': 'Total Sales'},\n",
    "    template='plotly_white',  # Use a clean template\n",
    ")\n"
   ]
  },
  {
   "cell_type": "code",
   "execution_count": 14,
   "id": "755304e6-f15b-49ba-be17-a21c8eaf4ab0",
   "metadata": {},
   "outputs": [
    {
     "data": {
      "application/vnd.plotly.v1+json": {
       "config": {
        "plotlyServerURL": "https://plot.ly"
       },
       "data": [
        {
         "hovertemplate": "City: %{x}<br>Total Sales: %{y:.2f}",
         "legendgroup": "Mandalay",
         "marker": {
          "color": "#636efa",
          "pattern": {
           "shape": ""
          }
         },
         "name": "Mandalay",
         "orientation": "v",
         "showlegend": true,
         "textposition": "auto",
         "type": "bar",
         "x": [
          "Mandalay"
         ],
         "xaxis": "x",
         "y": {
          "bdata": "4XoUrgeRwEA=",
          "dtype": "f8"
         },
         "yaxis": "y"
        },
        {
         "hovertemplate": "City: %{x}<br>Total Sales: %{y:.2f}",
         "legendgroup": "Naypyitaw",
         "marker": {
          "color": "#EF553B",
          "pattern": {
           "shape": ""
          }
         },
         "name": "Naypyitaw",
         "orientation": "v",
         "showlegend": true,
         "textposition": "auto",
         "type": "bar",
         "x": [
          "Naypyitaw"
         ],
         "xaxis": "x",
         "y": {
          "bdata": "XI/C9egaxEA=",
          "dtype": "f8"
         },
         "yaxis": "y"
        },
        {
         "hovertemplate": "City: %{x}<br>Total Sales: %{y:.2f}",
         "legendgroup": "Yangon",
         "marker": {
          "color": "#00cc96",
          "pattern": {
           "shape": ""
          }
         },
         "name": "Yangon",
         "orientation": "v",
         "showlegend": true,
         "textposition": "auto",
         "type": "bar",
         "x": [
          "Yangon"
         ],
         "xaxis": "x",
         "y": {
          "bdata": "mpmZmRnawUA=",
          "dtype": "f8"
         },
         "yaxis": "y"
        }
       ],
       "layout": {
        "barmode": "relative",
        "legend": {
         "title": {
          "text": "City"
         },
         "tracegroupgap": 0
        },
        "template": {
         "data": {
          "bar": [
           {
            "error_x": {
             "color": "#2a3f5f"
            },
            "error_y": {
             "color": "#2a3f5f"
            },
            "marker": {
             "line": {
              "color": "white",
              "width": 0.5
             },
             "pattern": {
              "fillmode": "overlay",
              "size": 10,
              "solidity": 0.2
             }
            },
            "type": "bar"
           }
          ],
          "barpolar": [
           {
            "marker": {
             "line": {
              "color": "white",
              "width": 0.5
             },
             "pattern": {
              "fillmode": "overlay",
              "size": 10,
              "solidity": 0.2
             }
            },
            "type": "barpolar"
           }
          ],
          "carpet": [
           {
            "aaxis": {
             "endlinecolor": "#2a3f5f",
             "gridcolor": "#C8D4E3",
             "linecolor": "#C8D4E3",
             "minorgridcolor": "#C8D4E3",
             "startlinecolor": "#2a3f5f"
            },
            "baxis": {
             "endlinecolor": "#2a3f5f",
             "gridcolor": "#C8D4E3",
             "linecolor": "#C8D4E3",
             "minorgridcolor": "#C8D4E3",
             "startlinecolor": "#2a3f5f"
            },
            "type": "carpet"
           }
          ],
          "choropleth": [
           {
            "colorbar": {
             "outlinewidth": 0,
             "ticks": ""
            },
            "type": "choropleth"
           }
          ],
          "contour": [
           {
            "colorbar": {
             "outlinewidth": 0,
             "ticks": ""
            },
            "colorscale": [
             [
              0,
              "#0d0887"
             ],
             [
              0.1111111111111111,
              "#46039f"
             ],
             [
              0.2222222222222222,
              "#7201a8"
             ],
             [
              0.3333333333333333,
              "#9c179e"
             ],
             [
              0.4444444444444444,
              "#bd3786"
             ],
             [
              0.5555555555555556,
              "#d8576b"
             ],
             [
              0.6666666666666666,
              "#ed7953"
             ],
             [
              0.7777777777777778,
              "#fb9f3a"
             ],
             [
              0.8888888888888888,
              "#fdca26"
             ],
             [
              1,
              "#f0f921"
             ]
            ],
            "type": "contour"
           }
          ],
          "contourcarpet": [
           {
            "colorbar": {
             "outlinewidth": 0,
             "ticks": ""
            },
            "type": "contourcarpet"
           }
          ],
          "heatmap": [
           {
            "colorbar": {
             "outlinewidth": 0,
             "ticks": ""
            },
            "colorscale": [
             [
              0,
              "#0d0887"
             ],
             [
              0.1111111111111111,
              "#46039f"
             ],
             [
              0.2222222222222222,
              "#7201a8"
             ],
             [
              0.3333333333333333,
              "#9c179e"
             ],
             [
              0.4444444444444444,
              "#bd3786"
             ],
             [
              0.5555555555555556,
              "#d8576b"
             ],
             [
              0.6666666666666666,
              "#ed7953"
             ],
             [
              0.7777777777777778,
              "#fb9f3a"
             ],
             [
              0.8888888888888888,
              "#fdca26"
             ],
             [
              1,
              "#f0f921"
             ]
            ],
            "type": "heatmap"
           }
          ],
          "histogram": [
           {
            "marker": {
             "pattern": {
              "fillmode": "overlay",
              "size": 10,
              "solidity": 0.2
             }
            },
            "type": "histogram"
           }
          ],
          "histogram2d": [
           {
            "colorbar": {
             "outlinewidth": 0,
             "ticks": ""
            },
            "colorscale": [
             [
              0,
              "#0d0887"
             ],
             [
              0.1111111111111111,
              "#46039f"
             ],
             [
              0.2222222222222222,
              "#7201a8"
             ],
             [
              0.3333333333333333,
              "#9c179e"
             ],
             [
              0.4444444444444444,
              "#bd3786"
             ],
             [
              0.5555555555555556,
              "#d8576b"
             ],
             [
              0.6666666666666666,
              "#ed7953"
             ],
             [
              0.7777777777777778,
              "#fb9f3a"
             ],
             [
              0.8888888888888888,
              "#fdca26"
             ],
             [
              1,
              "#f0f921"
             ]
            ],
            "type": "histogram2d"
           }
          ],
          "histogram2dcontour": [
           {
            "colorbar": {
             "outlinewidth": 0,
             "ticks": ""
            },
            "colorscale": [
             [
              0,
              "#0d0887"
             ],
             [
              0.1111111111111111,
              "#46039f"
             ],
             [
              0.2222222222222222,
              "#7201a8"
             ],
             [
              0.3333333333333333,
              "#9c179e"
             ],
             [
              0.4444444444444444,
              "#bd3786"
             ],
             [
              0.5555555555555556,
              "#d8576b"
             ],
             [
              0.6666666666666666,
              "#ed7953"
             ],
             [
              0.7777777777777778,
              "#fb9f3a"
             ],
             [
              0.8888888888888888,
              "#fdca26"
             ],
             [
              1,
              "#f0f921"
             ]
            ],
            "type": "histogram2dcontour"
           }
          ],
          "mesh3d": [
           {
            "colorbar": {
             "outlinewidth": 0,
             "ticks": ""
            },
            "type": "mesh3d"
           }
          ],
          "parcoords": [
           {
            "line": {
             "colorbar": {
              "outlinewidth": 0,
              "ticks": ""
             }
            },
            "type": "parcoords"
           }
          ],
          "pie": [
           {
            "automargin": true,
            "type": "pie"
           }
          ],
          "scatter": [
           {
            "fillpattern": {
             "fillmode": "overlay",
             "size": 10,
             "solidity": 0.2
            },
            "type": "scatter"
           }
          ],
          "scatter3d": [
           {
            "line": {
             "colorbar": {
              "outlinewidth": 0,
              "ticks": ""
             }
            },
            "marker": {
             "colorbar": {
              "outlinewidth": 0,
              "ticks": ""
             }
            },
            "type": "scatter3d"
           }
          ],
          "scattercarpet": [
           {
            "marker": {
             "colorbar": {
              "outlinewidth": 0,
              "ticks": ""
             }
            },
            "type": "scattercarpet"
           }
          ],
          "scattergeo": [
           {
            "marker": {
             "colorbar": {
              "outlinewidth": 0,
              "ticks": ""
             }
            },
            "type": "scattergeo"
           }
          ],
          "scattergl": [
           {
            "marker": {
             "colorbar": {
              "outlinewidth": 0,
              "ticks": ""
             }
            },
            "type": "scattergl"
           }
          ],
          "scattermap": [
           {
            "marker": {
             "colorbar": {
              "outlinewidth": 0,
              "ticks": ""
             }
            },
            "type": "scattermap"
           }
          ],
          "scattermapbox": [
           {
            "marker": {
             "colorbar": {
              "outlinewidth": 0,
              "ticks": ""
             }
            },
            "type": "scattermapbox"
           }
          ],
          "scatterpolar": [
           {
            "marker": {
             "colorbar": {
              "outlinewidth": 0,
              "ticks": ""
             }
            },
            "type": "scatterpolar"
           }
          ],
          "scatterpolargl": [
           {
            "marker": {
             "colorbar": {
              "outlinewidth": 0,
              "ticks": ""
             }
            },
            "type": "scatterpolargl"
           }
          ],
          "scatterternary": [
           {
            "marker": {
             "colorbar": {
              "outlinewidth": 0,
              "ticks": ""
             }
            },
            "type": "scatterternary"
           }
          ],
          "surface": [
           {
            "colorbar": {
             "outlinewidth": 0,
             "ticks": ""
            },
            "colorscale": [
             [
              0,
              "#0d0887"
             ],
             [
              0.1111111111111111,
              "#46039f"
             ],
             [
              0.2222222222222222,
              "#7201a8"
             ],
             [
              0.3333333333333333,
              "#9c179e"
             ],
             [
              0.4444444444444444,
              "#bd3786"
             ],
             [
              0.5555555555555556,
              "#d8576b"
             ],
             [
              0.6666666666666666,
              "#ed7953"
             ],
             [
              0.7777777777777778,
              "#fb9f3a"
             ],
             [
              0.8888888888888888,
              "#fdca26"
             ],
             [
              1,
              "#f0f921"
             ]
            ],
            "type": "surface"
           }
          ],
          "table": [
           {
            "cells": {
             "fill": {
              "color": "#EBF0F8"
             },
             "line": {
              "color": "white"
             }
            },
            "header": {
             "fill": {
              "color": "#C8D4E3"
             },
             "line": {
              "color": "white"
             }
            },
            "type": "table"
           }
          ]
         },
         "layout": {
          "annotationdefaults": {
           "arrowcolor": "#2a3f5f",
           "arrowhead": 0,
           "arrowwidth": 1
          },
          "autotypenumbers": "strict",
          "coloraxis": {
           "colorbar": {
            "outlinewidth": 0,
            "ticks": ""
           }
          },
          "colorscale": {
           "diverging": [
            [
             0,
             "#8e0152"
            ],
            [
             0.1,
             "#c51b7d"
            ],
            [
             0.2,
             "#de77ae"
            ],
            [
             0.3,
             "#f1b6da"
            ],
            [
             0.4,
             "#fde0ef"
            ],
            [
             0.5,
             "#f7f7f7"
            ],
            [
             0.6,
             "#e6f5d0"
            ],
            [
             0.7,
             "#b8e186"
            ],
            [
             0.8,
             "#7fbc41"
            ],
            [
             0.9,
             "#4d9221"
            ],
            [
             1,
             "#276419"
            ]
           ],
           "sequential": [
            [
             0,
             "#0d0887"
            ],
            [
             0.1111111111111111,
             "#46039f"
            ],
            [
             0.2222222222222222,
             "#7201a8"
            ],
            [
             0.3333333333333333,
             "#9c179e"
            ],
            [
             0.4444444444444444,
             "#bd3786"
            ],
            [
             0.5555555555555556,
             "#d8576b"
            ],
            [
             0.6666666666666666,
             "#ed7953"
            ],
            [
             0.7777777777777778,
             "#fb9f3a"
            ],
            [
             0.8888888888888888,
             "#fdca26"
            ],
            [
             1,
             "#f0f921"
            ]
           ],
           "sequentialminus": [
            [
             0,
             "#0d0887"
            ],
            [
             0.1111111111111111,
             "#46039f"
            ],
            [
             0.2222222222222222,
             "#7201a8"
            ],
            [
             0.3333333333333333,
             "#9c179e"
            ],
            [
             0.4444444444444444,
             "#bd3786"
            ],
            [
             0.5555555555555556,
             "#d8576b"
            ],
            [
             0.6666666666666666,
             "#ed7953"
            ],
            [
             0.7777777777777778,
             "#fb9f3a"
            ],
            [
             0.8888888888888888,
             "#fdca26"
            ],
            [
             1,
             "#f0f921"
            ]
           ]
          },
          "colorway": [
           "#636efa",
           "#EF553B",
           "#00cc96",
           "#ab63fa",
           "#FFA15A",
           "#19d3f3",
           "#FF6692",
           "#B6E880",
           "#FF97FF",
           "#FECB52"
          ],
          "font": {
           "color": "#2a3f5f"
          },
          "geo": {
           "bgcolor": "white",
           "lakecolor": "white",
           "landcolor": "white",
           "showlakes": true,
           "showland": true,
           "subunitcolor": "#C8D4E3"
          },
          "hoverlabel": {
           "align": "left"
          },
          "hovermode": "closest",
          "mapbox": {
           "style": "light"
          },
          "paper_bgcolor": "white",
          "plot_bgcolor": "white",
          "polar": {
           "angularaxis": {
            "gridcolor": "#EBF0F8",
            "linecolor": "#EBF0F8",
            "ticks": ""
           },
           "bgcolor": "white",
           "radialaxis": {
            "gridcolor": "#EBF0F8",
            "linecolor": "#EBF0F8",
            "ticks": ""
           }
          },
          "scene": {
           "xaxis": {
            "backgroundcolor": "white",
            "gridcolor": "#DFE8F3",
            "gridwidth": 2,
            "linecolor": "#EBF0F8",
            "showbackground": true,
            "ticks": "",
            "zerolinecolor": "#EBF0F8"
           },
           "yaxis": {
            "backgroundcolor": "white",
            "gridcolor": "#DFE8F3",
            "gridwidth": 2,
            "linecolor": "#EBF0F8",
            "showbackground": true,
            "ticks": "",
            "zerolinecolor": "#EBF0F8"
           },
           "zaxis": {
            "backgroundcolor": "white",
            "gridcolor": "#DFE8F3",
            "gridwidth": 2,
            "linecolor": "#EBF0F8",
            "showbackground": true,
            "ticks": "",
            "zerolinecolor": "#EBF0F8"
           }
          },
          "shapedefaults": {
           "line": {
            "color": "#2a3f5f"
           }
          },
          "ternary": {
           "aaxis": {
            "gridcolor": "#DFE8F3",
            "linecolor": "#A2B1C6",
            "ticks": ""
           },
           "baxis": {
            "gridcolor": "#DFE8F3",
            "linecolor": "#A2B1C6",
            "ticks": ""
           },
           "bgcolor": "white",
           "caxis": {
            "gridcolor": "#DFE8F3",
            "linecolor": "#A2B1C6",
            "ticks": ""
           }
          },
          "title": {
           "x": 0.05
          },
          "xaxis": {
           "automargin": true,
           "gridcolor": "#EBF0F8",
           "linecolor": "#EBF0F8",
           "ticks": "",
           "title": {
            "standoff": 15
           },
           "zerolinecolor": "#EBF0F8",
           "zerolinewidth": 2
          },
          "yaxis": {
           "automargin": true,
           "gridcolor": "#EBF0F8",
           "linecolor": "#EBF0F8",
           "ticks": "",
           "title": {
            "standoff": 15
           },
           "zerolinecolor": "#EBF0F8",
           "zerolinewidth": 2
          }
         }
        },
        "title": {
         "text": "Total Sales by City (Interactive)"
        },
        "xaxis": {
         "anchor": "y",
         "categoryarray": [
          "Mandalay",
          "Naypyitaw",
          "Yangon"
         ],
         "categoryorder": "array",
         "domain": [
          0,
          1
         ],
         "title": {
          "text": "City"
         }
        },
        "yaxis": {
         "anchor": "x",
         "domain": [
          0,
          1
         ],
         "title": {
          "text": "Total Sales"
         }
        }
       }
      }
     },
     "metadata": {},
     "output_type": "display_data"
    }
   ],
   "source": [
    "# Add hover information\n",
    "fig_city_sales.update_traces(hovertemplate=\"City: %{x}<br>Total Sales: %{y:.2f}\")"
   ]
  },
  {
   "cell_type": "code",
   "execution_count": 15,
   "id": "43b6c5c1-5cd9-4369-af79-6ec74ab4bf28",
   "metadata": {},
   "outputs": [
    {
     "ename": "NameError",
     "evalue": "name 'fig_monthly_sales' is not defined",
     "output_type": "error",
     "traceback": [
      "\u001b[31m---------------------------------------------------------------------------\u001b[39m",
      "\u001b[31mNameError\u001b[39m                                 Traceback (most recent call last)",
      "\u001b[36mCell\u001b[39m\u001b[36m \u001b[39m\u001b[32mIn[15]\u001b[39m\u001b[32m, line 2\u001b[39m\n\u001b[32m      1\u001b[39m \u001b[38;5;66;03m# Show the plot\u001b[39;00m\n\u001b[32m----> \u001b[39m\u001b[32m2\u001b[39m \u001b[43mfig_monthly_sales\u001b[49m.show()\n",
      "\u001b[31mNameError\u001b[39m: name 'fig_monthly_sales' is not defined"
     ]
    }
   ],
   "source": [
    "# Show the plot\n",
    "fig_monthly_sales.show()"
   ]
  },
  {
   "cell_type": "code",
   "execution_count": null,
   "id": "bd542a5c-43c0-4a40-81c7-a7c321f2cc90",
   "metadata": {},
   "outputs": [],
   "source": [
    "# --- Analysis 4: Sales by Gender ---\n",
    "sales_by_gender = df.groupby('Gender')['Total'].sum().reset_index()"
   ]
  },
  {
   "cell_type": "code",
   "execution_count": null,
   "id": "dcc93d60-2581-4d86-9f9c-5d6e9339bfb5",
   "metadata": {},
   "outputs": [],
   "source": [
    "plt.figure(figsize=(8, 6))\n",
    "sns.barplot(x='Gender', y='Total', data=sales_by_gender, palette='viridis')\n",
    "plt.title('Total Sales by Gender')\n",
    "plt.xlabel('Gender')\n",
    "plt.ylabel('Total Sales')\n",
    "plt.tight_layout()\n",
    "plt.show()"
   ]
  },
  {
   "cell_type": "code",
   "execution_count": null,
   "id": "760b6b6b-f63d-4d16-8827-0cea37eec2c4",
   "metadata": {},
   "outputs": [],
   "source": [
    "# --- Save the plots to HTML files (for interactive plots) ---\n",
    "# Define the output folder\n",
    "output_folder = 'output'  # Changed to a relative path for better portability"
   ]
  },
  {
   "cell_type": "code",
   "execution_count": null,
   "id": "2263e260-771a-4b17-973a-0617a51b3ce6",
   "metadata": {},
   "outputs": [],
   "source": [
    "# Create the output folder if it doesn't exist\n",
    "if not os.path.exists(output_folder):\n",
    "    os.makedirs(output_folder)\n",
    "    print(f\"\\nCreated output directory: {output_folder}\")\n",
    "else:\n",
    "    print(f\"\\nOutput directory already exists: {output_folder}\")\n",
    "\n",
    "fig_city_sales.write_html(os.path.join(output_folder, 'city_sales.html'))\n",
    "fig_product_sales.write_html(os.path.join(output_folder, 'product_sales.html'))\n",
    "fig_monthly_sales.write_html(os.path.join(output_folder, 'monthly_sales.html'))\n",
    "\n",
    "plt.savefig(os.path.join(output_folder, 'gender_sales.png'))"
   ]
  },
  {
   "cell_type": "code",
   "execution_count": null,
   "id": "5fd80aee-d7b9-4c71-87d4-c054918ca1df",
   "metadata": {},
   "outputs": [],
   "source": [
    "# --- Interpretation and Storytelling ---\n",
    "print(\"\\n--- Interpretation of Results ---\")\n",
    "\n",
    "# Assuming the following based on a hypothetical run of the code:\n",
    "# - Naypyitaw has the highest sales, followed by Yangon and Mandalay.\n",
    "# - Health and Beauty products are the top-selling product line.\n",
    "# - Sales peak in January and decline slightly in February and March.\n",
    "# - Sales are relatively even between genders.\n",
    "\n",
    "naypyitaw_sales = 10293\n",
    "yangon_sales = 9140\n",
    "mandalay_sales = 8482\n",
    "\n",
    "print(f\"1. **Total Sales by City:** Naypyitaw exhibits significantly higher total sales (approximately ${naypyitaw_sales:,.0f}) compared to Yangon (${yangon_sales:,.0f}) and Mandalay (${mandalay_sales:,.0f}). This suggests a stronger market presence or higher demand in Naypyitaw.  A deeper dive into factors like demographics, competitor activity, and marketing spend in each city is warranted to understand the drivers behind this difference.  We should consider allocating more resources to Naypyitaw or replicating successful strategies from Naypyitaw in other cities.\")\n",
    "\n",
    "print(\"2. **Sales by Product Line:** Health and Beauty products dominate sales, accounting for approximately 35% of total revenue.  This indicates a strong consumer interest in this category.  We should ensure adequate inventory levels for Health and Beauty products and explore opportunities to expand this product line.  Conversely, we should analyze the performance of underperforming product lines (e.g., Fashion Accessories) to identify potential issues and develop strategies for improvement, such as targeted promotions or product redesigns.\")\n",
    "\n",
    "print(\"3. **Monthly Sales Trend:** January shows a peak in sales, followed by a slight decline in February and March. This could be due to post-holiday spending patterns or seasonal factors.  We should analyze historical data to confirm this trend and adjust inventory and marketing campaigns accordingly.  For example, we could launch targeted promotions in February and March to boost sales during the slower months.\")\n",
    "\n",
    "print(\"4. **Sales by Gender:** Sales are relatively balanced between genders, with a slight edge towards females. This suggests that our products appeal to both male and female customers.  However, we could further refine our marketing strategies by analyzing product preferences and purchase behavior by gender to create more targeted campaigns.\")\n",
    "\n",
    "print(\"\\n--- Recommendations ---\")\n",
    "print(\"- **Resource Allocation:** Prioritize resource allocation to Naypyitaw, given its strong sales performance.  Investigate the possibility of expanding operations or increasing marketing efforts in this city.\")\n",
    "print(\"- **Product Line Optimization:** Focus on maximizing sales of Health and Beauty products, while developing strategies to improve the performance of underperforming product lines.  Consider conducting market research to identify unmet customer needs and develop new products to fill those gaps.\")\n",
    "print(\"- **Seasonal Sales Management:**  Develop strategies to mitigate the impact of seasonal sales fluctuations.  Implement targeted promotions and adjust inventory levels to optimize sales during both peak and off-peak months.\")\n",
    "print(\"- **Gender-Specific Marketing:**  Analyze product preferences and purchase behavior by gender to create more targeted marketing campaigns.  Consider offering gender-specific promotions or developing products that cater to the unique needs of each gender.\")\n",
    "print(\"- **Further Analysis:** Conduct customer surveys and focus groups to gather more qualitative data and gain a deeper understanding of customer preferences and motivations.\")\n"
   ]
  }
 ],
 "metadata": {
  "kernelspec": {
   "display_name": "Python 3 (ipykernel)",
   "language": "python",
   "name": "python3"
  },
  "language_info": {
   "codemirror_mode": {
    "name": "ipython",
    "version": 3
   },
   "file_extension": ".py",
   "mimetype": "text/x-python",
   "name": "python",
   "nbconvert_exporter": "python",
   "pygments_lexer": "ipython3",
   "version": "3.13.3"
  }
 },
 "nbformat": 4,
 "nbformat_minor": 5
}
